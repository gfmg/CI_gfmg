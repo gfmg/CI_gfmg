{
 "cells": [
  {
   "cell_type": "code",
   "execution_count": null,
   "metadata": {},
   "outputs": [],
   "source": [
    "#!/usr/bin/env python\n",
    "# -*-coding:utf-8 -*-\n",
    "'''\n",
    "@File    :   weather.ipynb\n",
    "@Time    :   2024/10/30 17:44:38\n",
    "@Author  :   Guillermo Martin\n",
    "@Version :   1.0\n",
    "@Personal email : gfmg1992@hotmail.com\n",
    "@Student email: G00438885@atu.ie\n",
    "@License :   (C)Copyright 2023, Guillermo Martin\n",
    "@Desc    :   Notebook describing how each of the task for the Computer infrastructure course were done\n",
    "'''\n"
   ]
  },
  {
   "cell_type": "markdown",
   "metadata": {},
   "source": [
    "# Task 1: Create a directory structure\n",
    "Within VS code. I create a new terminal, and select Git Bash instead of powershell (default). I create a new folder within my \"CI_gfmg\" repository called \"data\" by doing in Bash: \n",
    "\n",
    "> mkdir data\n",
    "\n",
    "I then change my current directory to the new \"data\" folder by doing in bash: \n",
    "\n",
    "> cd data\n",
    "\n",
    "Within this folder, I now create two new folders by: \n",
    "> mkdir timestamps\n",
    "\n",
    "> mkdir weather"
   ]
  },
  {
   "cell_type": "markdown",
   "metadata": {},
   "source": [
    "# Task 2: Timestamps\n",
    "I first change my current directory to the recently created timestamps folder by: \n",
    "\n",
    "> cd ./data/timestamps \n",
    "\n",
    "I now append the current date to a new .txt file by doing:\n",
    "> date >> now.txt\n",
    "\n",
    "I repeated the above command 10 times, and then I read the now.txt file by doing:\n",
    "\n",
    ">cat now.txt\n",
    "\n",
    "For some reason, within VS code using Bash (not codespace) there are some commands noy available. For instance >more or >man. "
   ]
  },
  {
   "cell_type": "markdown",
   "metadata": {},
   "source": [
    "# Task 3:"
   ]
  }
 ],
 "metadata": {
  "kernelspec": {
   "display_name": "Python 3",
   "language": "python",
   "name": "python3"
  },
  "language_info": {
   "name": "python",
   "version": "3.12.6"
  }
 },
 "nbformat": 4,
 "nbformat_minor": 2
}
