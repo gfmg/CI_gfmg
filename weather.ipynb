{
 "cells": [
  {
   "cell_type": "code",
   "execution_count": null,
   "metadata": {},
   "outputs": [],
   "source": [
    "#!/usr/bin/env python\n",
    "# -*-coding:utf-8 -*-\n",
    "'''\n",
    "@File    :   weather.ipynb\n",
    "@Time    :   2024/10/30 17:44:38\n",
    "@Author  :   Guillermo Martin\n",
    "@Version :   1.0\n",
    "@Personal email : gfmg1992@hotmail.com\n",
    "@Student email: G00438885@atu.ie\n",
    "@License :   (C)Copyright 2023, Guillermo Martin\n",
    "@Desc    :   Notebook describing how each of the task for the Computer infrastructure course were done\n",
    "'''\n"
   ]
  },
  {
   "cell_type": "markdown",
   "metadata": {},
   "source": [
    "# Task 1: Create a directory structure\n",
    "Within VS code. I create a new terminal, and select Git Bash instead of powershell (default). I create a new folder within my `CI_gfmg` repository called `data` by doing in Bash: \n",
    "\n",
    "> mkdir data\n",
    "\n",
    "I then change my current directory to the new `data` folder by doing in bash: \n",
    "\n",
    "> cd data\n",
    "\n",
    "Within this folder, I now create two new folders by: \n",
    "> mkdir timestamps\n",
    "\n",
    "> mkdir weather"
   ]
  },
  {
   "cell_type": "markdown",
   "metadata": {},
   "source": [
    "# Task 2: Timestamps\n",
    "I first change my current directory to the recently created timestamps folder by: \n",
    "\n",
    "> cd ./data/timestamps \n",
    "\n",
    "I now append the current date to a new `.txt` file by doing:\n",
    "> date >> now.txt\n",
    "\n",
    "I repeated the above command 10 times, and then I read the `now.txt` file by doing:\n",
    "\n",
    ">cat now.txt\n",
    "\n",
    "For some reason, within VS code using Bash (not codespace) there are some commands noy available. For instance `more` or `man`. "
   ]
  },
  {
   "cell_type": "markdown",
   "metadata": {},
   "source": [
    "# Task 3: Formatting Timestamps\n",
    "Using the terminal GitBash within VS code, I typed the following: \n",
    "\n",
    ">date +'%Y%m%d_%H%M%S' >> formatted.txt \n",
    "\n",
    "I have also tested how to use it within GitHub CodeSpace. "
   ]
  },
  {
   "cell_type": "markdown",
   "metadata": {},
   "source": [
    "# Task 4: Create Timestamped Files\n",
    "To create a `.txt` file with the current date and time in the format `YYYmmdd_HHMMSS` I used in bash the following: \n",
    "\n",
    ">touch `date +\"%Y%m%d_%H%M%S.txt\"`"
   ]
  },
  {
   "cell_type": "markdown",
   "metadata": {},
   "source": [
    "# Task 5: Download Today's Weather Data\n",
    "I already mentioned that, working in bash from VS code, there was a couple of bash functions that were not available including `more` or `man`. I found out that I can run Codespaces from my desktop using a VS Code extension. I found the information to do so here: https://code.visualstudio.com/docs/sourcecontrol/intro-to-git\n",
    "\n",
    "I could also run it from GitHub directly, but I prefer to do it from my desktop. Within CodeSpace I now run: \n",
    "\n",
    "> wget -O weather.json https://prodapi.metweb.ie/observations/athenry/today \n",
    "\n",
    "The `-O` options allows to save the data within the URL with the name `weather.json`"
   ]
  },
  {
   "cell_type": "markdown",
   "metadata": {},
   "source": [
    "# Task 6: Timestamp the Data\n",
    "\n",
    "For this task, we literally combine the commands that we developed in Task 5 and Task 4: \n",
    "\n",
    "wget -O `date +\"%Y%m%d_%H%M%S.json\"` https://prodapi.metweb.ie/observations/athenry/today "
   ]
  },
  {
   "cell_type": "markdown",
   "metadata": {},
   "source": [
    "# Task 7: Write the Script\n",
    "For Task 7, I first create a `weather.sh` file by: \n",
    "\n",
    "> touch weather.sh \n",
    "\n",
    "Once, the empty file is created, I write the following within the `.sh` file:\n",
    "\n",
    "> #! /bin/bash\n",
    "> wget -O data/weather/`date +\"%Y%m%d_%H%M%S.json\"` https://prodapi.metweb.ie/observations/athenry/today \n",
    "\n",
    "The first line of code (called the shebang), defines how this particular script should be run. In this case, it identifies that this particular script should be run as a `bash` command environment. \n",
    "\n",
    "The second line, is literally a copy of th command developed in Task 5 (which downloads the weather data for the Athenry station, and saves it with the timestamp of the download date/Time). The only change we have done is hat we have included the directory of where to save the file by adding `data/weather/`, before the name of the file. \n",
    "\n",
    "However, when we try to run the `weather.sh` file as a command within the bash terminal, we are answered with a Permission Denied message. To solve this issue we need to: \n",
    "\n",
    "> chmod u+x ./weather.sh\n",
    "\n",
    "By doing so, we have made this file executable within the bash terminal. To make this file more informative about how the downloading process is being carried, we can include comments about the downloading process within the `.sh` file using the `echo` command. "
   ]
  }
 ],
 "metadata": {
  "kernelspec": {
   "display_name": "Python 3",
   "language": "python",
   "name": "python3"
  },
  "language_info": {
   "name": "python",
   "version": "3.12.6"
  }
 },
 "nbformat": 4,
 "nbformat_minor": 2
}
