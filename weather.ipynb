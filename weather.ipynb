{
 "cells": [
  {
   "cell_type": "markdown",
   "metadata": {},
   "source": [
    "# Tasks \n",
    "The first section contains a detail explanation of each of the weekly tasks requested as part of the course"
   ]
  },
  {
   "cell_type": "markdown",
   "metadata": {},
   "source": [
    "## Task 1: Create a directory structure\n",
    "Within VS code. I create a new terminal, and select Git Bash instead of powershell (default). I create a new folder within my `CI_gfmg` repository called `data` by doing in Bash: \n",
    "\n",
    "```bash\n",
    "mkdir data\n",
    "```\n",
    "I then change my current directory to the new `data` folder by doing in bash: \n",
    "```bash\n",
    "cd data\n",
    "```\n",
    "Within this folder, I now create two new folders by: \n",
    "```bash\n",
    "mkdir timestamps\n",
    "mkdir weather\n",
    "```"
   ]
  },
  {
   "cell_type": "markdown",
   "metadata": {},
   "source": [
    "## Task 2: Timestamps\n",
    "I first change my current directory to the recently created timestamps folder by: \n",
    "```bash\n",
    "cd ./data/timestamps \n",
    "```\n",
    "I now append the current date to a new `.txt` file by doing:\n",
    "```bash\n",
    "date >> now.txt\n",
    "```\n",
    "I repeated the above command 10 times, and then I read the `now.txt` file by doing:\n",
    "```bash\n",
    "cat now.txt\n",
    "```\n",
    "For some reason, within VS code using Bash (not codespace) there are some commands noy available. For instance `more` or `man`. "
   ]
  },
  {
   "cell_type": "markdown",
   "metadata": {},
   "source": [
    "## Task 3: Formatting Timestamps\n",
    "Using the terminal GitBash within VS code, I typed the following: \n",
    "```bash\n",
    "date +'%Y%m%d_%H%M%S' >> formatted.txt \n",
    "```\n",
    "I have also tested how to use it within GitHub CodeSpace. "
   ]
  },
  {
   "cell_type": "markdown",
   "metadata": {},
   "source": [
    "## Task 4: Create Timestamped Files\n",
    "To create a `.txt` file with the current date and time in the format `YYYmmdd_HHMMSS` I used in bash the following: \n",
    "```bash\n",
    "touch date +\"%Y%m%d_%H%M%S.txt\"\n",
    "```"
   ]
  },
  {
   "cell_type": "markdown",
   "metadata": {},
   "source": [
    "## Task 5: Download Today's Weather Data\n",
    "I already mentioned that, working in bash from VS code, there was a couple of bash functions that were not available including `more` or `man`. I found out that I can run Codespaces from my desktop using a VS Code extension. I found the information to do so here: https://code.visualstudio.com/docs/sourcecontrol/intro-to-git\n",
    "\n",
    "I could also run it from GitHub directly, but I prefer to do it from my desktop. Within CodeSpace I now run: \n",
    "```bash\n",
    "wget -O weather.json https://prodapi.metweb.ie/observations/athenry/today \n",
    "```\n",
    "The `-O` options allows to save the data within the URL with the name `weather.json`"
   ]
  },
  {
   "cell_type": "markdown",
   "metadata": {},
   "source": [
    "## Task 6: Timestamp the Data\n",
    "For this task, we literally combine the commands that we developed in Task 5 and Task 4: \n",
    "```bash\n",
    "wget -O `date +\"%Y%m%d_%H%M%S.json\"` https://prodapi.metweb.ie/observations/athenry/today \n",
    "```"
   ]
  },
  {
   "cell_type": "markdown",
   "metadata": {},
   "source": [
    "## Task 7: Write the Script\n",
    "For Task 7, I first create a `weather.sh` file by: \n",
    "```bash\n",
    "touch weather.sh \n",
    "```\n",
    "Once, the empty file is created, I write the following within the `.sh` file:\n",
    "```bash\n",
    "#! /bin/bash\n",
    "wget -O data/weather/`date +\"%Y%m%d_%H%M%S.json\"` https://prodapi.metweb.ie/observations/athenry/today \n",
    "```\n",
    "The first line of code (called the shebang), defines how this particular script should be run. In this case, it identifies that this particular script should be run as a `bash` command environment. \n",
    "\n",
    "The second line, is literally a copy of th command developed in Task 5 (which downloads the weather data for the Athenry station, and saves it with the timestamp of the download date/Time). The only change we have done is hat we have included the directory of where to save the file by adding `data/weather/`, before the name of the file. \n",
    "\n",
    "However, when we try to run the `weather.sh` file as a command within the bash terminal, we are answered with a Permission Denied message. To solve this issue we need to: \n",
    "```bash\n",
    "chmod u+x ./weather.sh\n",
    "```\n",
    "By doing so, we have made this file executable within the bash terminal. To make this file more informative about how the downloading process is being carried, we can include comments about the downloading process within the `.sh` file using the `echo` command. Finally, we can run this within bash as (making sure we are in the correct directory): \n",
    "```bash\n",
    "./weather.sh\n",
    "```"
   ]
  },
  {
   "cell_type": "markdown",
   "metadata": {},
   "source": [
    "## Task 8: Notebook\n",
    "The task 8 involves creating a notebook called `weather.ipynb` and describing the tasks requested. This is the notebook"
   ]
  },
  {
   "cell_type": "markdown",
   "metadata": {},
   "source": [
    "## Task 9: pandas \n",
    "Use the `pandas` function `read_json()` to load in any one of the weather data files you have downloaded with your script and provide a brief analysis and summary of the data"
   ]
  },
  {
   "cell_type": "markdown",
   "metadata": {},
   "source": [
    "### Loading the json files "
   ]
  },
  {
   "cell_type": "code",
   "execution_count": 1,
   "metadata": {
    "execution": {
     "iopub.execute_input": "2024-12-11T11:34:14.705393Z",
     "iopub.status.busy": "2024-12-11T11:34:14.705202Z",
     "iopub.status.idle": "2024-12-11T11:34:17.130727Z",
     "shell.execute_reply": "2024-12-11T11:34:17.130070Z"
    }
   },
   "outputs": [
    {
     "name": "stdout",
     "output_type": "stream",
     "text": [
      "['20241211_113238.json', '20241203_113536.json', '20241128_125245.json', '20241127_151012.json', 'weather.json', '20241204_102658.json', '20241110_123739.json', '20241209_102738.json', '20241106_140820.json', '20241207_102525.json', '20241208_102421.json', '20241202_110404.json', '20241206_102636.json', '20241210_114711.json', '20241205_102658.json']\n"
     ]
    }
   ],
   "source": [
    "# Loading libraries\n",
    "import pandas as pd\n",
    "import os, json \n",
    "import datetime as dt\n",
    "import matplotlib.pyplot as plt \n",
    "\n",
    "# Loading all json files within the data folder. Idea from: https://stackoverflow.com/questions/30539679/python-read-several-json-files-from-a-folder \n",
    "path_to_json = './data/weather'\n",
    "json_files = [pos_json for pos_json in os.listdir(path_to_json) if pos_json.endswith('.json')]\n",
    "print(json_files)\n",
    "\n",
    "# Initialize a list to store all data\n",
    "data_list = []\n",
    "\n",
    "# The following loop I modified it slightly using the pd.read_json() function rather than the json.load() function originally used\n",
    "# in the link above. \n",
    "for index, js in enumerate(json_files):\n",
    "    with open(os.path.join(path_to_json, js)) as json_file:\n",
    "        #json_text = json.load(json_file)\n",
    "        tmp = pd.read_json(json_file,convert_dates=False) #Load each of the json files listed in json_files\n",
    "                                                           # I had to add the convert_dates=False parameter as the data was not being read correctly in some files  \n",
    "\n",
    "        data_list.append(tmp) # Append each json file in a list\n",
    "\n",
    "wdata = pd.concat(data_list, ignore_index=True) # Concatenate all json files into a single dataframe. Columns must match! As we are downloading the data\n",
    "                                                # from a website, I expect the format to be consistent.        "
   ]
  },
  {
   "cell_type": "markdown",
   "metadata": {},
   "source": [
    "### Summary and brief analysis of the data \n",
    "The loaded data has a total of 15 columns (`wdata.shape`). The information contained in the columns includes the date and time in which the data was reported (`dayname`,`date`,`reportTime`), where the data belongs to (`name`; the location: **Athenry**), and the remaining columns provide information about different weather aspects: \n",
    "\n",
    "- Wind: `windspeed` (in kt), `windgust`, `cardinalWindDirection` (N,S,E,W), `Winddirection` (numeric 0-360 degrees)\n",
    "- Humidity: `humidity` as a % \n",
    "- Rainfall: `rainfall` in mm\n",
    "- Pressure: `pressure` in mbar\n",
    "- Temperature: `temperature` in <sup>o</sup>C\n",
    "- Description of the Weather: `weatherDescription`, `text` (both seem to contain the same information)"
   ]
  },
  {
   "cell_type": "code",
   "execution_count": 2,
   "metadata": {
    "execution": {
     "iopub.execute_input": "2024-12-11T11:34:17.167531Z",
     "iopub.status.busy": "2024-12-11T11:34:17.167047Z",
     "iopub.status.idle": "2024-12-11T11:34:17.173200Z",
     "shell.execute_reply": "2024-12-11T11:34:17.172733Z"
    }
   },
   "outputs": [
    {
     "data": {
      "text/plain": [
       "(185, 15)"
      ]
     },
     "execution_count": 2,
     "metadata": {},
     "output_type": "execute_result"
    }
   ],
   "source": [
    "wdata.shape"
   ]
  },
  {
   "cell_type": "code",
   "execution_count": 3,
   "metadata": {
    "execution": {
     "iopub.execute_input": "2024-12-11T11:34:17.174868Z",
     "iopub.status.busy": "2024-12-11T11:34:17.174679Z",
     "iopub.status.idle": "2024-12-11T11:34:17.186486Z",
     "shell.execute_reply": "2024-12-11T11:34:17.186033Z"
    }
   },
   "outputs": [
    {
     "data": {
      "text/html": [
       "<div>\n",
       "<style scoped>\n",
       "    .dataframe tbody tr th:only-of-type {\n",
       "        vertical-align: middle;\n",
       "    }\n",
       "\n",
       "    .dataframe tbody tr th {\n",
       "        vertical-align: top;\n",
       "    }\n",
       "\n",
       "    .dataframe thead th {\n",
       "        text-align: right;\n",
       "    }\n",
       "</style>\n",
       "<table border=\"1\" class=\"dataframe\">\n",
       "  <thead>\n",
       "    <tr style=\"text-align: right;\">\n",
       "      <th></th>\n",
       "      <th>name</th>\n",
       "      <th>temperature</th>\n",
       "      <th>symbol</th>\n",
       "      <th>weatherDescription</th>\n",
       "      <th>text</th>\n",
       "      <th>windSpeed</th>\n",
       "      <th>windGust</th>\n",
       "      <th>cardinalWindDirection</th>\n",
       "      <th>windDirection</th>\n",
       "      <th>humidity</th>\n",
       "      <th>rainfall</th>\n",
       "      <th>pressure</th>\n",
       "      <th>dayName</th>\n",
       "      <th>date</th>\n",
       "      <th>reportTime</th>\n",
       "    </tr>\n",
       "  </thead>\n",
       "  <tbody>\n",
       "    <tr>\n",
       "      <th>0</th>\n",
       "      <td>Athenry</td>\n",
       "      <td>3</td>\n",
       "      <td>04n</td>\n",
       "      <td>Cloudy</td>\n",
       "      <td>\"Cloudy\"</td>\n",
       "      <td>6</td>\n",
       "      <td>-</td>\n",
       "      <td>N</td>\n",
       "      <td>0</td>\n",
       "      <td>86</td>\n",
       "      <td>0.0</td>\n",
       "      <td>1038</td>\n",
       "      <td>Wednesday</td>\n",
       "      <td>11-12-2024</td>\n",
       "      <td>00:00</td>\n",
       "    </tr>\n",
       "    <tr>\n",
       "      <th>1</th>\n",
       "      <td>Athenry</td>\n",
       "      <td>3</td>\n",
       "      <td>04n</td>\n",
       "      <td>Cloudy</td>\n",
       "      <td>\"Cloudy\"</td>\n",
       "      <td>7</td>\n",
       "      <td>-</td>\n",
       "      <td>N</td>\n",
       "      <td>0</td>\n",
       "      <td>85</td>\n",
       "      <td>0.0</td>\n",
       "      <td>1037</td>\n",
       "      <td>Wednesday</td>\n",
       "      <td>11-12-2024</td>\n",
       "      <td>01:00</td>\n",
       "    </tr>\n",
       "    <tr>\n",
       "      <th>2</th>\n",
       "      <td>Athenry</td>\n",
       "      <td>3</td>\n",
       "      <td>04n</td>\n",
       "      <td>Cloudy</td>\n",
       "      <td>\"Cloudy\"</td>\n",
       "      <td>6</td>\n",
       "      <td>-</td>\n",
       "      <td>NE</td>\n",
       "      <td>45</td>\n",
       "      <td>86</td>\n",
       "      <td>0.0</td>\n",
       "      <td>1037</td>\n",
       "      <td>Wednesday</td>\n",
       "      <td>11-12-2024</td>\n",
       "      <td>02:00</td>\n",
       "    </tr>\n",
       "    <tr>\n",
       "      <th>3</th>\n",
       "      <td>Athenry</td>\n",
       "      <td>3</td>\n",
       "      <td>04n</td>\n",
       "      <td>Cloudy</td>\n",
       "      <td>\"Cloudy\"</td>\n",
       "      <td>6</td>\n",
       "      <td>-</td>\n",
       "      <td>NE</td>\n",
       "      <td>45</td>\n",
       "      <td>87</td>\n",
       "      <td>0.0</td>\n",
       "      <td>1037</td>\n",
       "      <td>Wednesday</td>\n",
       "      <td>11-12-2024</td>\n",
       "      <td>03:00</td>\n",
       "    </tr>\n",
       "    <tr>\n",
       "      <th>4</th>\n",
       "      <td>Athenry</td>\n",
       "      <td>2</td>\n",
       "      <td>04n</td>\n",
       "      <td>Cloudy</td>\n",
       "      <td>\"Cloudy\"</td>\n",
       "      <td>6</td>\n",
       "      <td>-</td>\n",
       "      <td>NE</td>\n",
       "      <td>45</td>\n",
       "      <td>89</td>\n",
       "      <td>0.0</td>\n",
       "      <td>1036</td>\n",
       "      <td>Wednesday</td>\n",
       "      <td>11-12-2024</td>\n",
       "      <td>04:00</td>\n",
       "    </tr>\n",
       "  </tbody>\n",
       "</table>\n",
       "</div>"
      ],
      "text/plain": [
       "      name  temperature symbol weatherDescription      text windSpeed  \\\n",
       "0  Athenry            3    04n             Cloudy  \"Cloudy\"         6   \n",
       "1  Athenry            3    04n             Cloudy  \"Cloudy\"         7   \n",
       "2  Athenry            3    04n             Cloudy  \"Cloudy\"         6   \n",
       "3  Athenry            3    04n             Cloudy  \"Cloudy\"         6   \n",
       "4  Athenry            2    04n             Cloudy  \"Cloudy\"         6   \n",
       "\n",
       "  windGust cardinalWindDirection  windDirection  humidity  rainfall  pressure  \\\n",
       "0        -                     N              0        86       0.0      1038   \n",
       "1        -                     N              0        85       0.0      1037   \n",
       "2        -                    NE             45        86       0.0      1037   \n",
       "3        -                    NE             45        87       0.0      1037   \n",
       "4        -                    NE             45        89       0.0      1036   \n",
       "\n",
       "     dayName        date reportTime  \n",
       "0  Wednesday  11-12-2024      00:00  \n",
       "1  Wednesday  11-12-2024      01:00  \n",
       "2  Wednesday  11-12-2024      02:00  \n",
       "3  Wednesday  11-12-2024      03:00  \n",
       "4  Wednesday  11-12-2024      04:00  "
      ]
     },
     "execution_count": 3,
     "metadata": {},
     "output_type": "execute_result"
    }
   ],
   "source": [
    "wdata.head()"
   ]
  },
  {
   "cell_type": "markdown",
   "metadata": {},
   "source": [
    "Although we have downloaded data for just a few days, we can plot the trends in some of the weather information. First we have to create a timestamp (date and time) column, so to plot the data appropriately. "
   ]
  },
  {
   "cell_type": "code",
   "execution_count": 4,
   "metadata": {
    "execution": {
     "iopub.execute_input": "2024-12-11T11:34:17.188380Z",
     "iopub.status.busy": "2024-12-11T11:34:17.187919Z",
     "iopub.status.idle": "2024-12-11T11:34:17.193274Z",
     "shell.execute_reply": "2024-12-11T11:34:17.192820Z"
    }
   },
   "outputs": [],
   "source": [
    "# Create a timestamp column: \n",
    "# I originally tried the options discussed in: \n",
    "# https://stackoverflow.com/questions/10624937/convert-datetime-object-to-a-string-of-date-only-in-python\n",
    "# But I later used chatGPT for the last touch. \n",
    "# Basically I add together the date column after converting it to a string to the reportTime column, and then convert all of it to datetime.\n",
    "wdata['timestamp'] = pd.to_datetime(wdata['date'] + ' ' + wdata['reportTime'],format='%d-%m-%Y %H:%M')"
   ]
  },
  {
   "cell_type": "code",
   "execution_count": 5,
   "metadata": {
    "execution": {
     "iopub.execute_input": "2024-12-11T11:34:17.195080Z",
     "iopub.status.busy": "2024-12-11T11:34:17.194657Z",
     "iopub.status.idle": "2024-12-11T11:34:17.198726Z",
     "shell.execute_reply": "2024-12-11T11:34:17.198244Z"
    }
   },
   "outputs": [],
   "source": [
    "# Setting the TimeStamp as the index for plotting: \n",
    "wdata.set_index('timestamp',inplace=True)\n",
    "wdata.sort_index(inplace=True)"
   ]
  },
  {
   "cell_type": "code",
   "execution_count": 6,
   "metadata": {
    "execution": {
     "iopub.execute_input": "2024-12-11T11:34:17.200566Z",
     "iopub.status.busy": "2024-12-11T11:34:17.200234Z",
     "iopub.status.idle": "2024-12-11T11:34:17.208350Z",
     "shell.execute_reply": "2024-12-11T11:34:17.207839Z"
    }
   },
   "outputs": [
    {
     "name": "stdout",
     "output_type": "stream",
     "text": [
      "<class 'pandas.core.frame.DataFrame'>\n",
      "DatetimeIndex: 185 entries, 2024-11-04 00:00:00 to 2024-12-11 11:00:00\n",
      "Data columns (total 15 columns):\n",
      " #   Column                 Non-Null Count  Dtype  \n",
      "---  ------                 --------------  -----  \n",
      " 0   name                   185 non-null    object \n",
      " 1   temperature            185 non-null    int64  \n",
      " 2   symbol                 185 non-null    object \n",
      " 3   weatherDescription     185 non-null    object \n",
      " 4   text                   185 non-null    object \n",
      " 5   windSpeed              185 non-null    object \n",
      " 6   windGust               185 non-null    object \n",
      " 7   cardinalWindDirection  185 non-null    object \n",
      " 8   windDirection          185 non-null    int64  \n",
      " 9   humidity               185 non-null    int64  \n",
      " 10  rainfall               185 non-null    float64\n",
      " 11  pressure               185 non-null    int64  \n",
      " 12  dayName                185 non-null    object \n",
      " 13  date                   185 non-null    object \n",
      " 14  reportTime             185 non-null    object \n",
      "dtypes: float64(1), int64(4), object(10)\n",
      "memory usage: 23.1+ KB\n"
     ]
    }
   ],
   "source": [
    "wdata.info()"
   ]
  },
  {
   "cell_type": "code",
   "execution_count": 7,
   "metadata": {
    "execution": {
     "iopub.execute_input": "2024-12-11T11:34:17.209932Z",
     "iopub.status.busy": "2024-12-11T11:34:17.209746Z",
     "iopub.status.idle": "2024-12-11T11:34:17.214716Z",
     "shell.execute_reply": "2024-12-11T11:34:17.214240Z"
    }
   },
   "outputs": [],
   "source": [
    "dcolumns = [\"temperature\",\"windSpeed\",\"humidity\",\"rainfall\",\"pressure\"] # Columns of interest  \n",
    "\n",
    "#Making sure they all are numeric\n",
    "wdata[dcolumns] = wdata[dcolumns].apply(pd.to_numeric, errors='coerce')"
   ]
  },
  {
   "cell_type": "code",
   "execution_count": 8,
   "metadata": {
    "execution": {
     "iopub.execute_input": "2024-12-11T11:34:17.216582Z",
     "iopub.status.busy": "2024-12-11T11:34:17.216247Z",
     "iopub.status.idle": "2024-12-11T11:34:17.221545Z",
     "shell.execute_reply": "2024-12-11T11:34:17.221091Z"
    }
   },
   "outputs": [
    {
     "data": {
      "text/plain": [
       "temperature    0\n",
       "windSpeed      2\n",
       "humidity       0\n",
       "rainfall       0\n",
       "pressure       0\n",
       "dtype: int64"
      ]
     },
     "execution_count": 8,
     "metadata": {},
     "output_type": "execute_result"
    }
   ],
   "source": [
    "# Some NA values? \n",
    "na_windSpeed = wdata[dcolumns].isna().sum()\n",
    "na_windSpeed"
   ]
  },
  {
   "cell_type": "code",
   "execution_count": 9,
   "metadata": {
    "execution": {
     "iopub.execute_input": "2024-12-11T11:34:17.223389Z",
     "iopub.status.busy": "2024-12-11T11:34:17.223035Z",
     "iopub.status.idle": "2024-12-11T11:34:17.924300Z",
     "shell.execute_reply": "2024-12-11T11:34:17.923661Z"
    }
   },
   "outputs": [
    {
     "data": {
      "image/png": "[encoded data removed]",
      "text/plain": [
       "<Figure size 800x800 with 6 Axes>"
      ]
     },
     "metadata": {},
     "output_type": "display_data"
    }
   ],
   "source": [
    "# We will make a plot over some of the columns of interest:\n",
    "fig, ax = plt.subplots(nrows=3, ncols=2,figsize=(8, 8), sharex=True) #Defining the subplots\n",
    "axes = ax.flatten() # Flattening the subplots to make it easier to loop through them\n",
    "                    # Got the idea from: https://stackoverflow.com/questions/28070906/loop-over-2d-subplot-as-if-its-a-1-d\n",
    "\n",
    "for i,c in enumerate(dcolumns): # c is the column name and i is the index for the plot location\n",
    "  axes[i].plot(wdata.index, wdata[c], 'o-', label=c)\n",
    "  axes[i].set_ylabel(c)  # Add title to the y-axis\n",
    "\n",
    "# Unfortunately, the dates are barely readable. I will rotate them to make them more readable. From ChatGPT\n",
    "for ax in axes:\n",
    "    for label in ax.get_xticklabels():\n",
    "        label.set_rotation(45)\n",
    "        label.set_horizontalalignment('right')\n",
    "\n",
    "axes[-1].set_visible(False) #Remove the last plot as its empty\n",
    "plt.tight_layout()\n",
    "plt.show()"
   ]
  },
  {
   "cell_type": "markdown",
   "metadata": {},
   "source": [
    "From this plots, it may seem as some of the variables are slightly correlated. We can compute the correlation matrix to assist in determining if there is any correlation. There seems to be a very strong negative correlation between humidity and wind speed. However, the time series of data analyzed is still too short to have any conclusion.  "
   ]
  },
  {
   "cell_type": "code",
   "execution_count": 10,
   "metadata": {
    "execution": {
     "iopub.execute_input": "2024-12-11T11:34:17.926374Z",
     "iopub.status.busy": "2024-12-11T11:34:17.926016Z",
     "iopub.status.idle": "2024-12-11T11:34:17.934707Z",
     "shell.execute_reply": "2024-12-11T11:34:17.934165Z"
    }
   },
   "outputs": [
    {
     "data": {
      "text/html": [
       "<div>\n",
       "<style scoped>\n",
       "    .dataframe tbody tr th:only-of-type {\n",
       "        vertical-align: middle;\n",
       "    }\n",
       "\n",
       "    .dataframe tbody tr th {\n",
       "        vertical-align: top;\n",
       "    }\n",
       "\n",
       "    .dataframe thead th {\n",
       "        text-align: right;\n",
       "    }\n",
       "</style>\n",
       "<table border=\"1\" class=\"dataframe\">\n",
       "  <thead>\n",
       "    <tr style=\"text-align: right;\">\n",
       "      <th></th>\n",
       "      <th>temperature</th>\n",
       "      <th>windSpeed</th>\n",
       "      <th>humidity</th>\n",
       "      <th>rainfall</th>\n",
       "      <th>pressure</th>\n",
       "    </tr>\n",
       "  </thead>\n",
       "  <tbody>\n",
       "    <tr>\n",
       "      <th>temperature</th>\n",
       "      <td>1.000000</td>\n",
       "      <td>0.160341</td>\n",
       "      <td>-0.087406</td>\n",
       "      <td>0.123468</td>\n",
       "      <td>-0.309786</td>\n",
       "    </tr>\n",
       "    <tr>\n",
       "      <th>windSpeed</th>\n",
       "      <td>0.160341</td>\n",
       "      <td>1.000000</td>\n",
       "      <td>-0.905579</td>\n",
       "      <td>0.465915</td>\n",
       "      <td>-0.493452</td>\n",
       "    </tr>\n",
       "    <tr>\n",
       "      <th>humidity</th>\n",
       "      <td>-0.087406</td>\n",
       "      <td>-0.905579</td>\n",
       "      <td>1.000000</td>\n",
       "      <td>-0.394243</td>\n",
       "      <td>0.408967</td>\n",
       "    </tr>\n",
       "    <tr>\n",
       "      <th>rainfall</th>\n",
       "      <td>0.123468</td>\n",
       "      <td>0.465915</td>\n",
       "      <td>-0.394243</td>\n",
       "      <td>1.000000</td>\n",
       "      <td>-0.364444</td>\n",
       "    </tr>\n",
       "    <tr>\n",
       "      <th>pressure</th>\n",
       "      <td>-0.309786</td>\n",
       "      <td>-0.493452</td>\n",
       "      <td>0.408967</td>\n",
       "      <td>-0.364444</td>\n",
       "      <td>1.000000</td>\n",
       "    </tr>\n",
       "  </tbody>\n",
       "</table>\n",
       "</div>"
      ],
      "text/plain": [
       "             temperature  windSpeed  humidity  rainfall  pressure\n",
       "temperature     1.000000   0.160341 -0.087406  0.123468 -0.309786\n",
       "windSpeed       0.160341   1.000000 -0.905579  0.465915 -0.493452\n",
       "humidity       -0.087406  -0.905579  1.000000 -0.394243  0.408967\n",
       "rainfall        0.123468   0.465915 -0.394243  1.000000 -0.364444\n",
       "pressure       -0.309786  -0.493452  0.408967 -0.364444  1.000000"
      ]
     },
     "execution_count": 10,
     "metadata": {},
     "output_type": "execute_result"
    }
   ],
   "source": [
    "wdata[dcolumns].corr()"
   ]
  },
  {
   "cell_type": "markdown",
   "metadata": {},
   "source": [
    "# Project \n",
    "\n",
    "As part of the project for the Computer Infrastructure Course, we will automate the `weather.sh` script to run daily and push the new data to our repository. \n",
    "\n",
    "First, we start by creating a new directory within our repository:  \n",
    "```bash\n",
    "mkdir -p .github/workflows  #The -p allows to create a folder within an empty folder \n",
    "```\n",
    "Within this directory, we create a new file: \n",
    "```bash \n",
    "touch weather-data.yml\n",
    "``` "
   ]
  },
  {
   "cell_type": "markdown",
   "metadata": {},
   "source": [
    "Following Ian Lectures, we used GitHub Copilot and ChatGPT to modify the `.yml` script. The .yml script will allow to run the `weather.sh` script automatically and therefore download the Athenry daily weather data. The `.yml` file contains my comments indicating what are some of the most important features of this script. \n",
    "\n",
    "I have extended this project further by also automating the rendering of this notebook, by also defining a github workflow called `jupyter-updated.yml`. I searched online (https://stackoverflow.com/questions/63343937/how-to-use-the-github-actions-workflow-run-event; also with the help of ChatGPT) how I could automate this workflow just after the download of the data was carried, and I found out it could be done by: \n",
    "\n",
    "```yml\n",
    " on:\n",
    "   workflow_run:\n",
    "     workflows:\n",
    "       - Weather Data Workflow  # The exact name of your weather-data.yml workflow\n",
    "     types:\n",
    "       - completed  \n",
    "```\n",
    "\n",
    "I have tested that this setup works by manually dispatching the `Weather Data Workflow` and then checking that the `Update Weather Analysis Notebook` workflow was also dispatched. "
   ]
  },
  {
   "cell_type": "markdown",
   "metadata": {},
   "source": [
    "# End"
   ]
  }
 ],
 "metadata": {
  "kernelspec": {
   "display_name": "Python 3",
   "language": "python",
   "name": "python3"
  },
  "language_info": {
   "codemirror_mode": {
    "name": "ipython",
    "version": 3
   },
   "file_extension": ".py",
   "mimetype": "text/x-python",
   "name": "python",
   "nbconvert_exporter": "python",
   "pygments_lexer": "ipython3",
   "version": "3.12.7"
  }
 },
 "nbformat": 4,
 "nbformat_minor": 2
}
